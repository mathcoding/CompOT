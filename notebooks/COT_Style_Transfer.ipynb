{
 "cells": [
  {
   "cell_type": "markdown",
   "metadata": {},
   "source": [
    "<a rel=\"license\" href=\"http://creativecommons.org/licenses/by/4.0/\"><img alt=\"Creative Commons License\" style=\"border-width:0\" src=\"https://i.creativecommons.org/l/by/4.0/88x31.png\" /></a><br /><span xmlns:dct=\"http://purl.org/dc/terms/\" property=\"dct:title\"><b>Computational Optimal Transport</b></span> by <a xmlns:cc=\"http://creativecommons.org/ns#\" href=\"http://mate.unipv.it/gualandi\" property=\"cc:attributionName\" rel=\"cc:attributionURL\">Stefano Gualandi</a> is licensed under a <a rel=\"license\" href=\"http://creativecommons.org/licenses/by/4.0/\">Creative Commons Attribution 4.0 International License</a>. Based on a project at <a xmlns:dct=\"http://purl.org/dc/terms/\" href=\"https://github.com/mathcoding/opt4ds\" rel=\"dct:source\">https://github.com/mathcoding/compopt</a>."
   ]
  },
  {
   "cell_type": "markdown",
   "metadata": {},
   "source": [
    "# Style Transfer in Images\n",
    "\n",
    "We use in this notebook some basic applications of Optimal Transport for manipulating images.\n",
    "\n",
    "The common background is the following.\n",
    "\n",
    "We consider a discrete measures $\\alpha$ defined as a pair of vectors of $\\mathbb{R}^n$, where $a$ is the vector of weights and $x$ is the vector of locations (e.g., points in $\\mathbb{R}^q$); the discrete measure is\n",
    "\n",
    "$$\n",
    "    \\alpha = \\sum_{i=1}^n a_i \\delta_{x_i}   \n",
    "$$\n",
    "\n",
    "In addition, to require the measure to be a probability, we require that $\\sum_{i=1}^n a_i = 1$.\n",
    "\n",
    "Similary, we can define a second discrete measure $\\beta$, with vectors $b$ and $y$, such that:\n",
    "\n",
    "$$\n",
    "    \\beta = \\sum_{i=1}^m b_i \\delta_{y_i}   \n",
    "$$\n",
    "\n",
    "(and $\\sum_{j=1}^m b_j = 1$)\n",
    "\n",
    "We define the Optimal Transport problem between $\\alpha$ and $\\beta$ as the following Linear Programming (LP) problem:\n",
    "\n",
    "$$\n",
    "\\begin{align}\n",
    "OT_p(\\alpha, \\beta) := \\min \\quad & \\sum_{i=1}^n \\sum_{j=1}^m |x_i - y_j|_p \\pi_{ij} \\\\\n",
    "\\text{s.t.} \\quad & \\sum_{j=1}^m \\pi_{ij} = a_i & i = 1,\\dots, n \\\\\n",
    "& \\sum_{i=1}^n \\pi_{ij} = b_j & j = 1,\\dots, m \\\\\n",
    "& \\pi_{ij} \\geq 0\n",
    "\\end{align}\n",
    "$$\n",
    "\n",
    "By standard LP argument, this problem admits the following dual LP problem, in variables $f_i$ (for marginal constraints defined on $a_i$) and $g_j$ (for marginal constraints defind on $b_j$):\n",
    "\n",
    "$$\n",
    "\\begin{align}\n",
    "D_p(\\alpha, \\beta) := \\max \\quad & \\sum_{i=1}^n a_i f_i + \\sum_{j=1}^m b_j g_j \\\\\n",
    "\\text{s.t.} \\quad & f_i + g_j \\leq |x_i - y_j|_p & i=1,\\dots,n \\quad j=1,\\dots,m \\\\\n",
    "& f_i, g_j \\text{ free in sign}\n",
    "\\end{align}\n",
    "$$\n",
    "\n",
    "The Wasserstein distance of ordeer $p$ between two (discrete) measure is defined as\n",
    "$$\n",
    "W_p(\\alpha, \\beta) := \\left(OT_p(\\alpha, \\beta)\\right)^{\\frac{1}{p}}\n",
    "$$\n",
    "and defines a distance among discrete measures."
   ]
  },
  {
   "cell_type": "markdown",
   "metadata": {},
   "source": [
    "### Applications with images\n",
    "In applying optimal transport to images, we need to map an image to a discrete measure, defining the vector of weights (eventually all equal) and a vector of locations (e.g., points in $\\mathbb{R}^q$).\n",
    "\n",
    "In the first example, we will use points on $\\mathbb{R}$ (that is, 1-dimensional optimal transport), and in the second example, we will use points on $\\mathbb{R}^3$. In both cases, we will start by using vector of weights all equal among them."
   ]
  },
  {
   "cell_type": "markdown",
   "metadata": {},
   "source": [
    "## Example 1: Histogram Transfer for black-and-white images\n",
    "\n",
    "Given a black and white image of size $N \\times N$, it is possible to flatten all the pixels into a single vector of dimension $N^2$, where each element is equal to the pixel intensity (i.e., a value between 0 and 255, which is normalized into a value in $[0 \\dots 1]$). We can consider this vector as a discrete measure $\\alpha$, where each weight $a_i = \\frac{1}{n}$, and each location $x_i$ is the pixel intensity.\n",
    "This way we build a histogram of color intensity as follows."
   ]
  },
  {
   "cell_type": "code",
   "execution_count": null,
   "metadata": {},
   "outputs": [],
   "source": [
    "import matplotlib.pyplot as plt\n",
    "import numpy as np\n",
    "\n",
    "def ReadJpegBW(filename, xoff=0, yoff=0):\n",
    "    A = plt.imread(filename)\n",
    "    # Hack for resizing the image in 200x200 (center on Monge face)\n",
    "    A = A[xoff:200+xoff, yoff:200+yoff, 0].astype(float)/255\n",
    "    return A"
   ]
  },
  {
   "cell_type": "code",
   "execution_count": null,
   "metadata": {},
   "outputs": [],
   "source": [
    "def ShowImage(A):\n",
    "    fig, ax = plt.subplots()\n",
    "    plt.imshow(A, cmap='gray')\n",
    "    ax.autoscale()\n",
    "    ax.set_aspect('equal', 'box')\n",
    "    plt.axis('off')\n",
    "    plt.show()"
   ]
  },
  {
   "cell_type": "code",
   "execution_count": null,
   "metadata": {},
   "outputs": [],
   "source": [
    "def PlotHistogram(A):\n",
    "    A = A.flatten()\n",
    "    I = np.argsort(A)\n",
    "    plt.hist(A[I], bins=50, color='red', alpha=0.5, density=True)\n",
    "    plt.show()"
   ]
  },
  {
   "cell_type": "code",
   "execution_count": null,
   "metadata": {},
   "outputs": [],
   "source": [
    "# Metti il comando wget per prendere l'immagine\n",
    "A = ReadJpegBW('../data/foto1.jpeg')\n",
    "ShowImage(A)"
   ]
  },
  {
   "cell_type": "code",
   "execution_count": null,
   "metadata": {},
   "outputs": [],
   "source": [
    "PlotHistogram(A)"
   ]
  },
  {
   "cell_type": "markdown",
   "metadata": {},
   "source": [
    "**EXERCISE 1**: Read a second image (a Monge portrait), and solve the problem of *transfering* the distribution of pixel intensities from the first image to the second one. Use the complete distributions of pixel intensity of two image with the same size of 200x200 pixels. \n",
    "Plot the new image and the corresponding histogram if pixel intensities."
   ]
  },
  {
   "cell_type": "code",
   "execution_count": null,
   "metadata": {},
   "outputs": [],
   "source": [
    "B = ReadJpegBW('../data/monge.jpeg', xoff=75, yoff=50)\n",
    "ShowImage(B)\n",
    "PlotHistogram(B)"
   ]
  },
  {
   "cell_type": "markdown",
   "metadata": {},
   "source": [
    "**CHALLENGE 1**: Can you find the optimal histogram transfer between the two images without cropping, that is, between two images having a different number of pixels? Which algorithm would you use?"
   ]
  },
  {
   "cell_type": "markdown",
   "metadata": {},
   "source": [
    "## Example 2: Color Transfer of color images\n",
    "In this second application, we deal with color images, that is, with tensors of dimension $m \\times n \\times 3$, and we want to find the optimal map from the color palette of an image into the other.\n",
    "\n",
    "First, we show a few basic functions to deal with color images, and we samples of points in $\\mathbb{R}^3$."
   ]
  },
  {
   "cell_type": "code",
   "execution_count": null,
   "metadata": {},
   "outputs": [],
   "source": [
    "def LoadImage(filename):\n",
    "    A = plt.imread(filename).astype(np.float64)/255\n",
    "    return A"
   ]
  },
  {
   "cell_type": "code",
   "execution_count": null,
   "metadata": {},
   "outputs": [],
   "source": [
    "from random import sample, seed\n",
    "seed(13)\n",
    "def DisplayCloud(A, samples=100):\n",
    "    n, m, l = A.shape\n",
    "    print('shape', n, m, l)\n",
    "    C = A.reshape(n*m, 3)\n",
    "    s = sample(range(0, m*n), samples)\n",
    "    fig = plt.figure()\n",
    "    ax = fig.add_subplot(projection='3d')\n",
    "    plt.scatter(x=C[s, 0], y=C[s, 1], zs=C[s, 2], s=100, c=C[s])\n",
    "    plt.show()"
   ]
  },
  {
   "cell_type": "code",
   "execution_count": null,
   "metadata": {},
   "outputs": [],
   "source": [
    "A = LoadImage('../data/ferrari.jpg')\n",
    "B = LoadImage('../data/fioreblu.jpeg')"
   ]
  },
  {
   "cell_type": "code",
   "execution_count": null,
   "metadata": {},
   "outputs": [],
   "source": [
    "ShowImage(A)"
   ]
  },
  {
   "cell_type": "code",
   "execution_count": null,
   "metadata": {},
   "outputs": [],
   "source": [
    "ShowImage(B)"
   ]
  },
  {
   "cell_type": "code",
   "execution_count": null,
   "metadata": {},
   "outputs": [],
   "source": [
    "DisplayCloud(A, samples=1000)"
   ]
  },
  {
   "cell_type": "code",
   "execution_count": null,
   "metadata": {},
   "outputs": [],
   "source": [
    "DisplayCloud(B)"
   ]
  },
  {
   "cell_type": "markdown",
   "metadata": {},
   "source": [
    "**EXERCISE 2**: Write the optimal transport problem to map a sample of points from the first image to the second, in order to minimize the overall distance of the mapping. Begin with using a small number of sample points, then try to study the performarnce of the OT tranposrt algorithm as a function of the number of sample points.\n",
    "\n",
    "**CHALLENGE 2**: Can you find a method and/or model to tranposrt exactly every pixel of the first image into the second (eventually by splitting masses)?"
   ]
  }
 ],
 "metadata": {
  "kernelspec": {
   "display_name": "Python 3",
   "language": "python",
   "name": "python3"
  },
  "language_info": {
   "codemirror_mode": {
    "name": "ipython",
    "version": 3
   },
   "file_extension": ".py",
   "mimetype": "text/x-python",
   "name": "python",
   "nbconvert_exporter": "python",
   "pygments_lexer": "ipython3",
   "version": "3.11.5"
  }
 },
 "nbformat": 4,
 "nbformat_minor": 2
}
