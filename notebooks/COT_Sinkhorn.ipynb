{
 "cells": [
  {
   "cell_type": "markdown",
   "metadata": {},
   "source": [
    "<a rel=\"license\" href=\"http://creativecommons.org/licenses/by/4.0/\"><img alt=\"Creative Commons License\" style=\"border-width:0\" src=\"https://i.creativecommons.org/l/by/4.0/88x31.png\" /></a><br /><span xmlns:dct=\"http://purl.org/dc/terms/\" property=\"dct:title\"><b>Computational Optimal Transport</b></span> by <a xmlns:cc=\"http://creativecommons.org/ns#\" href=\"http://mate.unipv.it/gualandi\" property=\"cc:attributionName\" rel=\"cc:attributionURL\">Stefano Gualandi</a> is licensed under a <a rel=\"license\" href=\"http://creativecommons.org/licenses/by/4.0/\">Creative Commons Attribution 4.0 International License</a>. Based on a project at <a xmlns:dct=\"http://purl.org/dc/terms/\" href=\"https://github.com/mathcoding/opt4ds\" rel=\"dct:source\">https://github.com/mathcoding/compopt</a>."
   ]
  },
  {
   "cell_type": "markdown",
   "metadata": {},
   "source": [
    "# Sinkhorn algorithm\n",
    "\n",
    "With this notebook, we introduce the Sinkhorn's algorithm to compute the optimal transport between a pair of discrete measures.\n",
    "\n",
    "We define the Entropic Optimal Transport problem between discrete measures $\\alpha$ and $\\beta$ as the following Linear Programming (LP) problem:\n",
    "\n",
    "$$\n",
    "\\begin{align}\n",
    "EOT^{\\epsilon}_p(\\alpha, \\beta) := \\min \\quad & \\sum_{i=1}^n \\sum_{j=1}^m |x_i - y_j|_p \\pi_{ij} + \n",
    "\\epsilon \\sum_{i=1}^n \\sum_{j=1}^m x_{ij} (\\log(x_{ij}) - 1)\\\\\n",
    "\\text{s.t.} \\quad & \\sum_{j=1}^m \\pi_{ij} = a_i & i = 1,\\dots, n \\\\\n",
    "& \\sum_{i=1}^n \\pi_{ij} = b_j & j = 1,\\dots, m \\\\\n",
    "& \\pi_{ij} \\geq 0\n",
    "\\end{align}\n",
    "$$"
   ]
  },
  {
   "cell_type": "markdown",
   "metadata": {},
   "source": []
  },
  {
   "cell_type": "markdown",
   "metadata": {},
   "source": [
    "## Sinkhorn: Use the basic script on the GitHub repository\n",
    "\n"
   ]
  }
 ],
 "metadata": {
  "kernelspec": {
   "display_name": "Python 3",
   "language": "python",
   "name": "python3"
  },
  "language_info": {
   "codemirror_mode": {
    "name": "ipython",
    "version": 3
   },
   "file_extension": ".py",
   "mimetype": "text/x-python",
   "name": "python",
   "nbconvert_exporter": "python",
   "pygments_lexer": "ipython3",
   "version": "3.11.5"
  }
 },
 "nbformat": 4,
 "nbformat_minor": 2
}
